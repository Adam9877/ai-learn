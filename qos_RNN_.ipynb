{
 "cells": [
  {
   "cell_type": "code",
   "execution_count": 1,
   "metadata": {},
   "outputs": [],
   "source": [
    "import pandas as pd\n",
    "import os\n",
    "import numpy"
   ]
  },
  {
   "cell_type": "code",
   "execution_count": 2,
   "metadata": {},
   "outputs": [],
   "source": [
    "filepath = 'qos_full.xls'\n",
    "all_df = pd.read_excel('qos_full.xls')"
   ]
  },
  {
   "cell_type": "code",
   "execution_count": 3,
   "metadata": {},
   "outputs": [],
   "source": [
    "df = all_df.drop(['roundTripDelayMax', 'roundTripDelayMin'], axis=1)"
   ]
  },
  {
   "cell_type": "code",
   "execution_count": 4,
   "metadata": {},
   "outputs": [],
   "source": [
    "df.loc[((df['roundTripDelayMean'] == 0) | (df['roundTripPacketLoss'] > 0) | (df['uplinkPacketLoss'] > 0) | (df['downlinkPacketLoss'] > 0 ) | (df['roundTripDelayMean'] > 30000) | (df['uplinkJitterMax'] > 10000) | (df['downlinkJitterMax'] > 10000 )) | (df['downlinkJitterMax'] == 0) | (df['downlinkJitterMaxTH'] == 0) | (df['downlinkJitterMean'] == 0) | (df['uplinkJitterMax'] ==0 ) | (df['uplinkJitterMaxTH'] ==0 ) | (df['uplinkJitterMean'] ==0 ), 'alarm'] = 1"
   ]
  },
  {
   "cell_type": "code",
   "execution_count": 5,
   "metadata": {},
   "outputs": [],
   "source": [
    "import seaborn as sns"
   ]
  },
  {
   "cell_type": "code",
   "execution_count": 6,
   "metadata": {},
   "outputs": [
    {
     "data": {
      "text/plain": [
       "<matplotlib.axes._subplots.AxesSubplot at 0x7f7ea9f94b70>"
      ]
     },
     "execution_count": 6,
     "metadata": {},
     "output_type": "execute_result"
    },
    {
     "data": {
      "image/png": "[encoded data removed]",
      "text/plain": [
       "<Figure size 432x288 with 1 Axes>"
      ]
     },
     "metadata": {
      "needs_background": "light"
     },
     "output_type": "display_data"
    }
   ],
   "source": [
    "sns.countplot(x='alarm', data=df)"
   ]
  },
  {
   "cell_type": "code",
   "execution_count": 7,
   "metadata": {},
   "outputs": [],
   "source": [
    "df = df.drop(['number'], axis=1)\n",
    "x_OneHot_df = pd.get_dummies(data=df, columns=['access', 'region'])"
   ]
  },
  {
   "cell_type": "code",
   "execution_count": 8,
   "metadata": {},
   "outputs": [],
   "source": [
    "x_OneHot_df['time'] = pd.to_datetime(x_OneHot_df['time'])\n",
    "x_OneHot_df['hour'] = x_OneHot_df['time'].apply(lambda time:time.hour)\n",
    "df_new = x_OneHot_df.drop(['time'], axis=1)\n",
    "df_sort = df_new.sort_values(by=['hour'])"
   ]
  },
  {
   "cell_type": "code",
   "execution_count": 9,
   "metadata": {},
   "outputs": [],
   "source": [
    "df_sort['upRate'] = df_sort['upRate'].map({'64K':0, '2M': 1, '3M': 2, '5M':3, '6M':4, '20M':5,\n",
    "                                           '40M':6, '100M':7, '250M':8, '600M':9})\n",
    "df_sort['downRate'] = df_sort['downRate'].map({'2M':0, '6M':1, '12M':2, '16M':3,\n",
    "                                              '20M':4, '35M':5, '60M':6, '100M':7,\n",
    "                                              '300M':8, '500M':9, '1G': 10})"
   ]
  },
  {
   "cell_type": "code",
   "execution_count": 10,
   "metadata": {},
   "outputs": [],
   "source": [
    "X = df_sort.drop('alarm', axis=1).values\n",
    "y= df_sort['alarm'].values"
   ]
  },
  {
   "cell_type": "code",
   "execution_count": 11,
   "metadata": {},
   "outputs": [
    {
     "data": {
      "text/plain": [
       "(10000, 18)"
      ]
     },
     "execution_count": 11,
     "metadata": {},
     "output_type": "execute_result"
    }
   ],
   "source": [
    "X.shape"
   ]
  },
  {
   "cell_type": "code",
   "execution_count": 12,
   "metadata": {},
   "outputs": [
    {
     "data": {
      "text/plain": [
       "(10000,)"
      ]
     },
     "execution_count": 12,
     "metadata": {},
     "output_type": "execute_result"
    }
   ],
   "source": [
    "y.shape"
   ]
  },
  {
   "cell_type": "code",
   "execution_count": 13,
   "metadata": {},
   "outputs": [],
   "source": [
    "from sklearn.model_selection import train_test_split\n",
    "X_train, X_test, y_train, y_test = train_test_split(X, y, test_size=0.2, random_state=101)\n",
    "from sklearn.preprocessing import MinMaxScaler\n",
    "scaler = MinMaxScaler()\n",
    "X_train = scaler.fit_transform(X_train)\n",
    "X_test = scaler.transform(X_test)"
   ]
  },
  {
   "cell_type": "code",
   "execution_count": 14,
   "metadata": {},
   "outputs": [
    {
     "data": {
      "text/plain": [
       "(8000, 18)"
      ]
     },
     "execution_count": 14,
     "metadata": {},
     "output_type": "execute_result"
    }
   ],
   "source": [
    "X_train.shape"
   ]
  },
  {
   "cell_type": "code",
   "execution_count": 15,
   "metadata": {},
   "outputs": [
    {
     "name": "stderr",
     "output_type": "stream",
     "text": [
      "Using TensorFlow backend.\n"
     ]
    }
   ],
   "source": [
    "from keras.models import Sequential\n",
    "from keras.layers.core import Dense, Dropout, Activation, Flatten\n",
    "from keras.layers.embeddings import Embedding\n",
    "from keras.layers.recurrent import SimpleRNN"
   ]
  },
  {
   "cell_type": "code",
   "execution_count": 19,
   "metadata": {},
   "outputs": [],
   "source": [
    "model = Sequential()\n",
    "\n",
    "model.add(Embedding(output_dim=32,\n",
    "                   input_dim=18))\n",
    "model.add(Dropout(0.2))\n",
    "\n",
    "model.add(Dense(units=32, activation='relu'))\n",
    "model.add(Dropout(0.2))\n",
    "\n",
    "model.add(Dense(units=16, activation='relu'))\n",
    "model.add(Dropout(0.2))\n",
    "\n",
    "model.add(SimpleRNN(units=8, recurrent_dropout=0.2))\n",
    "\n",
    "model.add(Dense(units=1, activation='sigmoid'))"
   ]
  },
  {
   "cell_type": "code",
   "execution_count": 20,
   "metadata": {},
   "outputs": [
    {
     "name": "stdout",
     "output_type": "stream",
     "text": [
      "Model: \"sequential_4\"\n",
      "_________________________________________________________________\n",
      "Layer (type)                 Output Shape              Param #   \n",
      "=================================================================\n",
      "embedding_1 (Embedding)      (None, None, 32)          576       \n",
      "_________________________________________________________________\n",
      "dropout_8 (Dropout)          (None, None, 32)          0         \n",
      "_________________________________________________________________\n",
      "dense_8 (Dense)              (None, None, 32)          1056      \n",
      "_________________________________________________________________\n",
      "dropout_9 (Dropout)          (None, None, 32)          0         \n",
      "_________________________________________________________________\n",
      "dense_9 (Dense)              (None, None, 16)          528       \n",
      "_________________________________________________________________\n",
      "dropout_10 (Dropout)         (None, None, 16)          0         \n",
      "_________________________________________________________________\n",
      "simple_rnn_4 (SimpleRNN)     (None, 8)                 200       \n",
      "_________________________________________________________________\n",
      "dense_10 (Dense)             (None, 1)                 9         \n",
      "=================================================================\n",
      "Total params: 2,369\n",
      "Trainable params: 2,369\n",
      "Non-trainable params: 0\n",
      "_________________________________________________________________\n"
     ]
    }
   ],
   "source": [
    "model.summary()"
   ]
  },
  {
   "cell_type": "code",
   "execution_count": 21,
   "metadata": {},
   "outputs": [
    {
     "name": "stdout",
     "output_type": "stream",
     "text": [
      "WARNING:tensorflow:From /usr/local/lib/python3.6/dist-packages/tensorflow/python/ops/nn_impl.py:180: add_dispatch_support.<locals>.wrapper (from tensorflow.python.ops.array_ops) is deprecated and will be removed in a future version.\n",
      "Instructions for updating:\n",
      "Use tf.where in 2.0, which has the same broadcast rule as np.where\n"
     ]
    }
   ],
   "source": [
    "model.compile(loss='binary_crossentropy',\n",
    "             optimizer='adam',\n",
    "             metrics=['accuracy'])"
   ]
  },
  {
   "cell_type": "code",
   "execution_count": 24,
   "metadata": {},
   "outputs": [],
   "source": [
    "#from keras.callbacks import EarlyStopping\n",
    "#es = EarlyStopping(monitor='val_loss', mode='min', patience=2)"
   ]
  },
  {
   "cell_type": "code",
   "execution_count": 22,
   "metadata": {},
   "outputs": [
    {
     "name": "stdout",
     "output_type": "stream",
     "text": [
      "WARNING:tensorflow:From /usr/local/lib/python3.6/dist-packages/keras/backend/tensorflow_backend.py:422: The name tf.global_variables is deprecated. Please use tf.compat.v1.global_variables instead.\n",
      "\n",
      "Train on 8000 samples, validate on 2000 samples\n",
      "Epoch 1/100\n",
      " - 2s - loss: 0.6599 - accuracy: 0.6249 - val_loss: 0.6519 - val_accuracy: 0.6595\n",
      "Epoch 2/100\n",
      " - 1s - loss: 0.6478 - accuracy: 0.6635 - val_loss: 0.6479 - val_accuracy: 0.6595\n",
      "Epoch 3/100\n",
      " - 1s - loss: 0.6419 - accuracy: 0.6681 - val_loss: 0.6468 - val_accuracy: 0.6595\n",
      "Epoch 4/100\n",
      " - 1s - loss: 0.6390 - accuracy: 0.6721 - val_loss: 0.6457 - val_accuracy: 0.6595\n",
      "Epoch 5/100\n",
      " - 1s - loss: 0.6380 - accuracy: 0.6720 - val_loss: 0.6435 - val_accuracy: 0.6595\n",
      "Epoch 6/100\n",
      " - 1s - loss: 0.6369 - accuracy: 0.6719 - val_loss: 0.6442 - val_accuracy: 0.6595\n",
      "Epoch 7/100\n",
      " - 1s - loss: 0.6365 - accuracy: 0.6724 - val_loss: 0.6433 - val_accuracy: 0.6595\n",
      "Epoch 8/100\n",
      " - 1s - loss: 0.6371 - accuracy: 0.6721 - val_loss: 0.6437 - val_accuracy: 0.6595\n",
      "Epoch 9/100\n",
      " - 1s - loss: 0.6349 - accuracy: 0.6720 - val_loss: 0.6436 - val_accuracy: 0.6595\n",
      "Epoch 10/100\n",
      " - 1s - loss: 0.6350 - accuracy: 0.6721 - val_loss: 0.6426 - val_accuracy: 0.6595\n",
      "Epoch 11/100\n",
      " - 1s - loss: 0.6341 - accuracy: 0.6719 - val_loss: 0.6427 - val_accuracy: 0.6595\n",
      "Epoch 12/100\n",
      " - 1s - loss: 0.6323 - accuracy: 0.6720 - val_loss: 0.6420 - val_accuracy: 0.6595\n",
      "Epoch 13/100\n",
      " - 1s - loss: 0.6326 - accuracy: 0.6721 - val_loss: 0.6412 - val_accuracy: 0.6595\n",
      "Epoch 14/100\n",
      " - 1s - loss: 0.6337 - accuracy: 0.6718 - val_loss: 0.6407 - val_accuracy: 0.6595\n",
      "Epoch 15/100\n",
      " - 1s - loss: 0.6328 - accuracy: 0.6722 - val_loss: 0.6406 - val_accuracy: 0.6595\n",
      "Epoch 16/100\n",
      " - 1s - loss: 0.6332 - accuracy: 0.6719 - val_loss: 0.6405 - val_accuracy: 0.6595\n",
      "Epoch 17/100\n",
      " - 1s - loss: 0.6312 - accuracy: 0.6720 - val_loss: 0.6404 - val_accuracy: 0.6595\n",
      "Epoch 18/100\n",
      " - 1s - loss: 0.6316 - accuracy: 0.6720 - val_loss: 0.6404 - val_accuracy: 0.6595\n",
      "Epoch 19/100\n",
      " - 1s - loss: 0.6307 - accuracy: 0.6721 - val_loss: 0.6408 - val_accuracy: 0.6595\n",
      "Epoch 20/100\n",
      " - 1s - loss: 0.6311 - accuracy: 0.6721 - val_loss: 0.6400 - val_accuracy: 0.6595\n",
      "Epoch 21/100\n",
      " - 1s - loss: 0.6312 - accuracy: 0.6720 - val_loss: 0.6396 - val_accuracy: 0.6595\n",
      "Epoch 22/100\n",
      " - 1s - loss: 0.6319 - accuracy: 0.6721 - val_loss: 0.6397 - val_accuracy: 0.6595\n",
      "Epoch 23/100\n",
      " - 1s - loss: 0.6297 - accuracy: 0.6721 - val_loss: 0.6397 - val_accuracy: 0.6595\n",
      "Epoch 24/100\n",
      " - 1s - loss: 0.6288 - accuracy: 0.6721 - val_loss: 0.6396 - val_accuracy: 0.6595\n",
      "Epoch 25/100\n",
      " - 1s - loss: 0.6298 - accuracy: 0.6721 - val_loss: 0.6398 - val_accuracy: 0.6595\n",
      "Epoch 26/100\n",
      " - 1s - loss: 0.6301 - accuracy: 0.6721 - val_loss: 0.6397 - val_accuracy: 0.6595\n",
      "Epoch 27/100\n",
      " - 1s - loss: 0.6311 - accuracy: 0.6720 - val_loss: 0.6396 - val_accuracy: 0.6595\n",
      "Epoch 28/100\n",
      " - 1s - loss: 0.6290 - accuracy: 0.6721 - val_loss: 0.6394 - val_accuracy: 0.6595\n",
      "Epoch 29/100\n",
      " - 1s - loss: 0.6285 - accuracy: 0.6721 - val_loss: 0.6395 - val_accuracy: 0.6595\n",
      "Epoch 30/100\n",
      " - 1s - loss: 0.6277 - accuracy: 0.6721 - val_loss: 0.6393 - val_accuracy: 0.6595\n",
      "Epoch 31/100\n",
      " - 1s - loss: 0.6298 - accuracy: 0.6721 - val_loss: 0.6392 - val_accuracy: 0.6595\n",
      "Epoch 32/100\n",
      " - 1s - loss: 0.6284 - accuracy: 0.6719 - val_loss: 0.6395 - val_accuracy: 0.6595\n",
      "Epoch 33/100\n",
      " - 1s - loss: 0.6276 - accuracy: 0.6721 - val_loss: 0.6393 - val_accuracy: 0.6595\n",
      "Epoch 34/100\n",
      " - 1s - loss: 0.6258 - accuracy: 0.6721 - val_loss: 0.6393 - val_accuracy: 0.6595\n",
      "Epoch 35/100\n",
      " - 1s - loss: 0.6288 - accuracy: 0.6721 - val_loss: 0.6391 - val_accuracy: 0.6595\n",
      "Epoch 36/100\n",
      " - 1s - loss: 0.6289 - accuracy: 0.6721 - val_loss: 0.6392 - val_accuracy: 0.6595\n",
      "Epoch 37/100\n",
      " - 1s - loss: 0.6276 - accuracy: 0.6719 - val_loss: 0.6390 - val_accuracy: 0.6595\n",
      "Epoch 38/100\n",
      " - 1s - loss: 0.6278 - accuracy: 0.6721 - val_loss: 0.6387 - val_accuracy: 0.6595\n",
      "Epoch 39/100\n",
      " - 1s - loss: 0.6260 - accuracy: 0.6720 - val_loss: 0.6388 - val_accuracy: 0.6595\n",
      "Epoch 40/100\n",
      " - 1s - loss: 0.6293 - accuracy: 0.6720 - val_loss: 0.6397 - val_accuracy: 0.6595\n",
      "Epoch 41/100\n",
      " - 1s - loss: 0.6279 - accuracy: 0.6720 - val_loss: 0.6394 - val_accuracy: 0.6595\n",
      "Epoch 42/100\n",
      " - 1s - loss: 0.6269 - accuracy: 0.6721 - val_loss: 0.6389 - val_accuracy: 0.6595\n",
      "Epoch 43/100\n",
      " - 1s - loss: 0.6264 - accuracy: 0.6720 - val_loss: 0.6394 - val_accuracy: 0.6595\n",
      "Epoch 44/100\n",
      " - 1s - loss: 0.6274 - accuracy: 0.6721 - val_loss: 0.6391 - val_accuracy: 0.6595\n",
      "Epoch 45/100\n",
      " - 1s - loss: 0.6254 - accuracy: 0.6720 - val_loss: 0.6392 - val_accuracy: 0.6595\n",
      "Epoch 46/100\n",
      " - 1s - loss: 0.6264 - accuracy: 0.6721 - val_loss: 0.6388 - val_accuracy: 0.6595\n",
      "Epoch 47/100\n",
      " - 1s - loss: 0.6251 - accuracy: 0.6720 - val_loss: 0.6394 - val_accuracy: 0.6595\n",
      "Epoch 48/100\n",
      " - 1s - loss: 0.6262 - accuracy: 0.6721 - val_loss: 0.6388 - val_accuracy: 0.6595\n",
      "Epoch 49/100\n",
      " - 1s - loss: 0.6259 - accuracy: 0.6720 - val_loss: 0.6383 - val_accuracy: 0.6595\n",
      "Epoch 50/100\n",
      " - 1s - loss: 0.6266 - accuracy: 0.6720 - val_loss: 0.6389 - val_accuracy: 0.6595\n",
      "Epoch 51/100\n",
      " - 1s - loss: 0.6255 - accuracy: 0.6720 - val_loss: 0.6387 - val_accuracy: 0.6595\n",
      "Epoch 52/100\n",
      " - 1s - loss: 0.6249 - accuracy: 0.6718 - val_loss: 0.6384 - val_accuracy: 0.6595\n",
      "Epoch 53/100\n",
      " - 1s - loss: 0.6258 - accuracy: 0.6721 - val_loss: 0.6387 - val_accuracy: 0.6595\n",
      "Epoch 54/100\n",
      " - 1s - loss: 0.6252 - accuracy: 0.6721 - val_loss: 0.6380 - val_accuracy: 0.6595\n",
      "Epoch 55/100\n",
      " - 1s - loss: 0.6251 - accuracy: 0.6720 - val_loss: 0.6386 - val_accuracy: 0.6595\n",
      "Epoch 56/100\n",
      " - 1s - loss: 0.6254 - accuracy: 0.6721 - val_loss: 0.6393 - val_accuracy: 0.6595\n",
      "Epoch 57/100\n",
      " - 1s - loss: 0.6258 - accuracy: 0.6720 - val_loss: 0.6395 - val_accuracy: 0.6595\n",
      "Epoch 58/100\n",
      " - 1s - loss: 0.6242 - accuracy: 0.6720 - val_loss: 0.6402 - val_accuracy: 0.6595\n",
      "Epoch 59/100\n",
      " - 1s - loss: 0.6245 - accuracy: 0.6720 - val_loss: 0.6394 - val_accuracy: 0.6595\n",
      "Epoch 60/100\n",
      " - 1s - loss: 0.6248 - accuracy: 0.6719 - val_loss: 0.6385 - val_accuracy: 0.6595\n",
      "Epoch 61/100\n",
      " - 1s - loss: 0.6250 - accuracy: 0.6721 - val_loss: 0.6387 - val_accuracy: 0.6595\n",
      "Epoch 62/100\n",
      " - 1s - loss: 0.6250 - accuracy: 0.6719 - val_loss: 0.6388 - val_accuracy: 0.6595\n",
      "Epoch 63/100\n",
      " - 1s - loss: 0.6247 - accuracy: 0.6720 - val_loss: 0.6391 - val_accuracy: 0.6595\n",
      "Epoch 64/100\n",
      " - 1s - loss: 0.6251 - accuracy: 0.6720 - val_loss: 0.6392 - val_accuracy: 0.6595\n",
      "Epoch 65/100\n",
      " - 1s - loss: 0.6249 - accuracy: 0.6719 - val_loss: 0.6401 - val_accuracy: 0.6595\n",
      "Epoch 66/100\n",
      " - 1s - loss: 0.6255 - accuracy: 0.6720 - val_loss: 0.6395 - val_accuracy: 0.6595\n",
      "Epoch 67/100\n",
      " - 1s - loss: 0.6244 - accuracy: 0.6721 - val_loss: 0.6391 - val_accuracy: 0.6595\n",
      "Epoch 68/100\n",
      " - 1s - loss: 0.6245 - accuracy: 0.6720 - val_loss: 0.6390 - val_accuracy: 0.6595\n",
      "Epoch 69/100\n",
      " - 1s - loss: 0.6226 - accuracy: 0.6719 - val_loss: 0.6389 - val_accuracy: 0.6595\n",
      "Epoch 70/100\n",
      " - 1s - loss: 0.6217 - accuracy: 0.6718 - val_loss: 0.6407 - val_accuracy: 0.6595\n",
      "Epoch 71/100\n",
      " - 1s - loss: 0.6259 - accuracy: 0.6715 - val_loss: 0.6406 - val_accuracy: 0.6595\n",
      "Epoch 72/100\n",
      " - 1s - loss: 0.6244 - accuracy: 0.6720 - val_loss: 0.6404 - val_accuracy: 0.6595\n",
      "Epoch 73/100\n",
      " - 1s - loss: 0.6239 - accuracy: 0.6720 - val_loss: 0.6393 - val_accuracy: 0.6595\n",
      "Epoch 74/100\n",
      " - 1s - loss: 0.6227 - accuracy: 0.6719 - val_loss: 0.6392 - val_accuracy: 0.6595\n",
      "Epoch 75/100\n",
      " - 1s - loss: 0.6232 - accuracy: 0.6721 - val_loss: 0.6395 - val_accuracy: 0.6595\n",
      "Epoch 76/100\n",
      " - 1s - loss: 0.6249 - accuracy: 0.6719 - val_loss: 0.6396 - val_accuracy: 0.6595\n",
      "Epoch 77/100\n",
      " - 1s - loss: 0.6250 - accuracy: 0.6720 - val_loss: 0.6397 - val_accuracy: 0.6595\n",
      "Epoch 78/100\n",
      " - 1s - loss: 0.6243 - accuracy: 0.6719 - val_loss: 0.6400 - val_accuracy: 0.6595\n",
      "Epoch 79/100\n",
      " - 1s - loss: 0.6231 - accuracy: 0.6719 - val_loss: 0.6400 - val_accuracy: 0.6595\n",
      "Epoch 80/100\n",
      " - 1s - loss: 0.6251 - accuracy: 0.6719 - val_loss: 0.6397 - val_accuracy: 0.6595\n",
      "Epoch 81/100\n",
      " - 1s - loss: 0.6242 - accuracy: 0.6721 - val_loss: 0.6398 - val_accuracy: 0.6595\n",
      "Epoch 82/100\n",
      " - 1s - loss: 0.6226 - accuracy: 0.6720 - val_loss: 0.6395 - val_accuracy: 0.6595\n",
      "Epoch 83/100\n",
      " - 1s - loss: 0.6238 - accuracy: 0.6716 - val_loss: 0.6396 - val_accuracy: 0.6595\n",
      "Epoch 84/100\n",
      " - 1s - loss: 0.6232 - accuracy: 0.6720 - val_loss: 0.6394 - val_accuracy: 0.6595\n"
     ]
    },
    {
     "name": "stdout",
     "output_type": "stream",
     "text": [
      "Epoch 85/100\n",
      " - 1s - loss: 0.6235 - accuracy: 0.6720 - val_loss: 0.6397 - val_accuracy: 0.6595\n",
      "Epoch 86/100\n",
      " - 1s - loss: 0.6236 - accuracy: 0.6720 - val_loss: 0.6400 - val_accuracy: 0.6595\n",
      "Epoch 87/100\n",
      " - 1s - loss: 0.6234 - accuracy: 0.6719 - val_loss: 0.6399 - val_accuracy: 0.6595\n",
      "Epoch 88/100\n",
      " - 1s - loss: 0.6231 - accuracy: 0.6720 - val_loss: 0.6397 - val_accuracy: 0.6595\n",
      "Epoch 89/100\n",
      " - 1s - loss: 0.6243 - accuracy: 0.6721 - val_loss: 0.6390 - val_accuracy: 0.6595\n",
      "Epoch 90/100\n",
      " - 1s - loss: 0.6243 - accuracy: 0.6721 - val_loss: 0.6393 - val_accuracy: 0.6595\n",
      "Epoch 91/100\n",
      " - 1s - loss: 0.6225 - accuracy: 0.6719 - val_loss: 0.6388 - val_accuracy: 0.6595\n",
      "Epoch 92/100\n",
      " - 1s - loss: 0.6229 - accuracy: 0.6720 - val_loss: 0.6387 - val_accuracy: 0.6595\n",
      "Epoch 93/100\n",
      " - 1s - loss: 0.6225 - accuracy: 0.6718 - val_loss: 0.6397 - val_accuracy: 0.6595\n",
      "Epoch 94/100\n",
      " - 1s - loss: 0.6226 - accuracy: 0.6719 - val_loss: 0.6393 - val_accuracy: 0.6595\n",
      "Epoch 95/100\n",
      " - 1s - loss: 0.6228 - accuracy: 0.6720 - val_loss: 0.6392 - val_accuracy: 0.6595\n",
      "Epoch 96/100\n",
      " - 1s - loss: 0.6240 - accuracy: 0.6720 - val_loss: 0.6398 - val_accuracy: 0.6595\n",
      "Epoch 97/100\n",
      " - 1s - loss: 0.6238 - accuracy: 0.6720 - val_loss: 0.6399 - val_accuracy: 0.6595\n",
      "Epoch 98/100\n",
      " - 1s - loss: 0.6222 - accuracy: 0.6720 - val_loss: 0.6403 - val_accuracy: 0.6595\n",
      "Epoch 99/100\n",
      " - 1s - loss: 0.6233 - accuracy: 0.6720 - val_loss: 0.6403 - val_accuracy: 0.6595\n",
      "Epoch 100/100\n",
      " - 1s - loss: 0.6226 - accuracy: 0.6719 - val_loss: 0.6405 - val_accuracy: 0.6595\n"
     ]
    }
   ],
   "source": [
    "train_history = model.fit(x=X_train, y=y_train, validation_data=(X_test, y_test),\n",
    "                         epochs=100,\n",
    "                         batch_size=128,\n",
    "                         verbose=2,\n",
    "                         )"
   ]
  },
  {
   "cell_type": "code",
   "execution_count": 26,
   "metadata": {},
   "outputs": [],
   "source": [
    "import matplotlib.pyplot as plt\n",
    "def show_train_history(train_history, train, validation):\n",
    "    plt.plot(train_history.history[train])\n",
    "    plt.plot(train_history.history[validation])\n",
    "    plt.title('Train History')\n",
    "    plt.ylabel(train)\n",
    "    plt.xlabel('Epoch')\n",
    "    plt.legend(['train', 'validation'], loc='upper left')\n",
    "    plt.show()"
   ]
  },
  {
   "cell_type": "code",
   "execution_count": 27,
   "metadata": {},
   "outputs": [
    {
     "data": {
      "image/png": "[encoded data removed]",
      "text/plain": [
       "<Figure size 432x288 with 1 Axes>"
      ]
     },
     "metadata": {
      "needs_background": "light"
     },
     "output_type": "display_data"
    }
   ],
   "source": [
    "show_train_history(train_history, 'accuracy', 'val_accuracy')"
   ]
  },
  {
   "cell_type": "code",
   "execution_count": null,
   "metadata": {},
   "outputs": [],
   "source": []
  }
 ],
 "metadata": {
  "kernelspec": {
   "display_name": "Python 3",
   "language": "python",
   "name": "python3"
  },
  "language_info": {
   "codemirror_mode": {
    "name": "ipython",
    "version": 3
   },
   "file_extension": ".py",
   "mimetype": "text/x-python",
   "name": "python",
   "nbconvert_exporter": "python",
   "pygments_lexer": "ipython3",
   "version": "3.6.8"
  }
 },
 "nbformat": 4,
 "nbformat_minor": 2
}
